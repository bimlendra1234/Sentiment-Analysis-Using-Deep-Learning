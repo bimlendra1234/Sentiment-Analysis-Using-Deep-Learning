{
 "cells": [
  {
   "cell_type": "code",
   "execution_count": 2,
   "metadata": {},
   "outputs": [],
   "source": [
    "import keras"
   ]
  },
  {
   "cell_type": "code",
   "execution_count": 3,
   "metadata": {},
   "outputs": [],
   "source": [
    "from keras.preprocessing import sequence\n",
    "from keras.models import Sequential\n",
    "from keras.layers import Dense, Dropout, Activation\n",
    "from keras.layers import Embedding\n",
    "from keras.layers import Conv1D, GlobalMaxPooling1D        #for max pooling\n",
    "from keras.datasets import imdb\n"
   ]
  },
  {
   "cell_type": "code",
   "execution_count": 4,
   "metadata": {},
   "outputs": [],
   "source": [
    "# set parameters:\n",
    "max_features = 5000\n",
    "maxlen = 400\n",
    "batch_size = 32\n",
    "embedding_dims = 50\n",
    "filters = 250\n",
    "kernel_size = 3\n",
    "hidden_dims = 250\n",
    "epochs = 2"
   ]
  },
  {
   "cell_type": "code",
   "execution_count": 5,
   "metadata": {},
   "outputs": [],
   "source": [
    "# for loading imdb dataset\n",
    "import numpy as np \n",
    "np_load_old = np.load   # save old function for calling later \n",
    "\n",
    "# modify the default parameters of np.load\n",
    "#np.load = lambda *a,**k: np_load_old(*a, allow_pickle=True, **k)"
   ]
  },
  {
   "cell_type": "code",
   "execution_count": 6,
   "metadata": {},
   "outputs": [
    {
     "name": "stdout",
     "output_type": "stream",
     "text": [
      "Loading data...\n",
      "25000 train sequences\n",
      "25000 test sequences\n"
     ]
    }
   ],
   "source": [
    "print('Loading data...')\n",
    "(x_train, y_train), (x_test, y_test) = imdb.load_data(num_words=max_features)\n",
    "print(len(x_train), 'train sequences')\n",
    "print(len(x_test), 'test sequences')"
   ]
  },
  {
   "cell_type": "code",
   "execution_count": 7,
   "metadata": {},
   "outputs": [],
   "source": [
    "word_to_id = keras.datasets.imdb.get_word_index()"
   ]
  },
  {
   "cell_type": "code",
   "execution_count": 8,
   "metadata": {},
   "outputs": [],
   "source": [
    "def get_fixed_word_to_id_dict(): \n",
    "    INDEX_FROM=3   # word index offset    #starts from number 3 and onwords\n",
    "    \n",
    "    word_to_id = keras.datasets.imdb.get_word_index()    #got the dictionary\n",
    "    word_to_id = {k:(v+INDEX_FROM) for k,v in word_to_id.items()}    #so that we can have 0,1,2 in the mapping\n",
    "    word_to_id[\" \"] = 0        #tagging reserve free functin \n",
    "    word_to_id[\"<START>\"] = 1\n",
    "    word_to_id[\"<UNK>\"] = 2\n",
    "    return word_to_id"
   ]
  },
  {
   "cell_type": "code",
   "execution_count": 9,
   "metadata": {},
   "outputs": [],
   "source": [
    "def decode_to_sentence(data_point): \n",
    "    \n",
    "    \n",
    "    word_to_id = get_fixed_word_to_id_dict()    #get the dictionary which have all key value pairs\n",
    "\n",
    "    id_to_word = {value:key for key,value in word_to_id.items()}   #flip the dictionary so that given the value we have the key\n",
    "    return ' '.join( id_to_word[id] for id in data_point )"
   ]
  },
  {
   "cell_type": "code",
   "execution_count": 10,
   "metadata": {},
   "outputs": [],
   "source": [
    "def encode_sentence(sent): \n",
    "    # print(sent)\n",
    "    encoded = []\n",
    "    \n",
    "    word_to_id = get_fixed_word_to_id_dict()    # GETS THE DICTIONARY\n",
    "    \n",
    "    for w in sent.split(\" \"):                   #SPLITS AND GET EACH WORDS OUT\n",
    "        if w in word_to_id: \n",
    "            encoded.append(word_to_id[w])        #AND FOR EACH WORD IT WILL APPEND id to encoded lists if found\n",
    "        else: \n",
    "            encoded.append(2)        # We used '2' for <UNK>  if not found in the dictionary.\n",
    "    return encoded "
   ]
  },
  {
   "cell_type": "code",
   "execution_count": 11,
   "metadata": {},
   "outputs": [
    {
     "name": "stdout",
     "output_type": "stream",
     "text": [
      "Pad sequences (samples x time)\n",
      "x_train shape: (25000, 400)\n",
      "x_test shape: (25000, 400)\n"
     ]
    }
   ],
   "source": [
    "print('Pad sequences (samples x time)')\n",
    "x_train = sequence.pad_sequences(x_train, maxlen=maxlen)\n",
    "x_test = sequence.pad_sequences(x_test, maxlen=maxlen)\n",
    "print('x_train shape:', x_train.shape)\n",
    "print('x_test shape:', x_test.shape)"
   ]
  },
  {
   "cell_type": "code",
   "execution_count": 12,
   "metadata": {},
   "outputs": [],
   "source": [
    "#print(x_train[0])"
   ]
  },
  {
   "cell_type": "code",
   "execution_count": 14,
   "metadata": {},
   "outputs": [
    {
     "name": "stdout",
     "output_type": "stream",
     "text": [
      "Build model...\n",
      "Train...\n",
      "Train on 25000 samples, validate on 25000 samples\n",
      "Epoch 1/5\n",
      "25000/25000 [==============================] - 660s 26ms/step - loss: 0.5030 - accuracy: 0.7645 - val_loss: 0.3978 - val_accuracy: 0.8322\n",
      "Epoch 2/5\n",
      "25000/25000 [==============================] - 633s 25ms/step - loss: 0.3892 - accuracy: 0.8336 - val_loss: 0.4680 - val_accuracy: 0.7782\n",
      "Epoch 3/5\n",
      "25000/25000 [==============================] - 637s 25ms/step - loss: 0.3854 - accuracy: 0.8277 - val_loss: 0.4257 - val_accuracy: 0.8139\n",
      "Epoch 4/5\n",
      "25000/25000 [==============================] - 682s 27ms/step - loss: 0.3289 - accuracy: 0.8648 - val_loss: 0.3513 - val_accuracy: 0.8511\n",
      "Epoch 5/5\n",
      "25000/25000 [==============================] - 653s 26ms/step - loss: 0.2665 - accuracy: 0.8891 - val_loss: 0.3375 - val_accuracy: 0.8601\n",
      "\n",
      "\n",
      "Accuracy and Score during testing of the model :\n",
      "25000/25000 [==============================] - 152s 6ms/step\n",
      "Test score: 0.3374877428817749\n",
      "Test accuracy: 0.8601199984550476\n",
      "\n",
      "\n",
      "Model Evaluation :\n",
      "Precision: 0.809999\n",
      "Recall: 0.940960\n",
      "F1 score: 0.870582\n"
     ]
    }
   ],
   "source": [
    "print('Build model...')\n",
    "\n",
    "from keras.layers import LSTM\n",
    "\n",
    "model = Sequential()\n",
    "model.add(Embedding(max_features, 128))\n",
    "model.add(LSTM(128, dropout=0.2, recurrent_dropout=0.2))\n",
    "model.add(Dense(1, activation='sigmoid'))\n",
    "\n",
    "# try using different optimizers and different optimizer configs\n",
    "model.compile(loss='binary_crossentropy',\n",
    "            optimizer='adam',\n",
    "            metrics=['accuracy'])\n",
    "\n",
    "    #model.summary()\n",
    "\n",
    "print('Train...')\n",
    "model.fit(x_train, y_train,\n",
    "            batch_size=batch_size,\n",
    "            epochs=5,\n",
    "            validation_data=(x_test, y_test))\n",
    "\n",
    "\n",
    "import matplotlib.pyplot as plt\n",
    "\n",
    "#print(history.history.keys())\n",
    "\n",
    "from sklearn.datasets import make_circles\n",
    "from sklearn.metrics import accuracy_score\n",
    "from sklearn.metrics import precision_score\n",
    "from sklearn.metrics import recall_score\n",
    "from sklearn.metrics import f1_score\n",
    "from sklearn.metrics import cohen_kappa_score\n",
    "from sklearn.metrics import roc_auc_score\n",
    "from sklearn.metrics import confusion_matrix\n",
    "from keras.models import Sequential\n",
    "from keras.layers import Dense\n",
    "\n",
    "# generate data\n",
    "#x_train, y_train, x_test, testy = get_data()\n",
    "# fit model\n",
    "model = get_model()\n",
    "print('\\n')\n",
    "print('Accuracy and Score during testing of the model :')\n",
    "score, acc = model.evaluate(x_test, y_test, batch_size=batch_size)\n",
    "print('Test score:', score)\n",
    "print('Test accuracy:', acc)\n",
    "print('\\n')\n",
    " \n",
    " \n",
    "# predict probabilities for test set\n",
    "yhat_probs = model.predict(x_train, verbose=0)\n",
    "# predict crisp classes for test set\n",
    "yhat_classes = model.predict_classes(x_test, verbose=0)\n",
    "# reduce to 1d array\n",
    "yhat_probs = yhat_probs[:, 0]\n",
    "yhat_classes = yhat_classes[:, 0]\n",
    " \n",
    "# accuracy: (tp + tn) / (p + n)\n",
    "print('Model Evaluation :')\n",
    "#accuracy = accuracy_score(y_test, yhat_classes)\n",
    "#print('Accuracy: %f' % accuracy)\n",
    "# precision tp / (tp + fp)\n",
    "precision = precision_score(y_test, yhat_classes)\n",
    "print('Precision: %f' % precision)\n",
    "# recall: tp / (tp + fn)\n",
    "recall = recall_score(y_test, yhat_classes)\n",
    "print('Recall: %f' % recall)\n",
    "# f1: 2 tp / (2 tp + fp + fn)\n",
    "f1 = f1_score(y_test, yhat_classes)\n",
    "print('F1 score: %f' % f1)"
   ]
  },
  {
   "cell_type": "code",
   "execution_count": 50,
   "metadata": {},
   "outputs": [],
   "source": [
    "predictions = model.predict(x_test)    #pass testing data mentioned above here in model\n",
    "sentiment = ['NEG' if i < 0.5 else 'POS' for i in predictions]      #can add negative pos and neutral here"
   ]
  },
  {
   "cell_type": "code",
   "execution_count": 51,
   "metadata": {},
   "outputs": [],
   "source": [
    "#create our own sentences and see how it will do for new senences it has never seen.\n",
    "test_sentences = [] \n",
    "\n",
    "test_sentence = \"i do not like this at all\"\n",
    "test_sentence = encode_sentence(test_sentence)     #encode sentences return sequence of id\n",
    "test_sentences.append(test_sentence)                #append it into the above sentences list.\n",
    "\n",
    "\n",
    "test_sentence = \"loved it\"\n",
    "test_sentence = encode_sentence(test_sentence)\n",
    "test_sentences.append(test_sentence) \n",
    "\n",
    "\n",
    "test_sentence = \"did not love it\"\n",
    "test_sentence = encode_sentence(test_sentence)\n",
    "test_sentences.append(test_sentence)\n",
    "\n",
    "\n",
    "test_sentence = \"cannot say that i loved it\"\n",
    "test_sentence = encode_sentence(test_sentence)\n",
    "test_sentences.append(test_sentence)"
   ]
  },
  {
   "cell_type": "code",
   "execution_count": 52,
   "metadata": {},
   "outputs": [],
   "source": [
    "test_sentences = sequence.pad_sequences(test_sentences, maxlen=maxlen)    #pad them as before"
   ]
  },
  {
   "cell_type": "code",
   "execution_count": 53,
   "metadata": {},
   "outputs": [
    {
     "data": {
      "text/plain": [
       "(4, 400)"
      ]
     },
     "execution_count": 53,
     "metadata": {},
     "output_type": "execute_result"
    }
   ],
   "source": [
    "test_sentences.shape    #shape of the our sentences"
   ]
  },
  {
   "cell_type": "code",
   "execution_count": 54,
   "metadata": {},
   "outputs": [
    {
     "name": "stdout",
     "output_type": "stream",
     "text": [
      "                                                                                                                                                                                                                                                                                                                                                                                                                                                                                                                                                                                                                                                                                                                                                                                                                  i do not like this at all -- NEG\n",
      "                                                                                                                                                                                                                                                                                                                                                                                                                                                                                                                                                                                                                                                                                                                                                                                                                            loved it -- NEG\n",
      "                                                                                                                                                                                                                                                                                                                                                                                                                                                                                                                                                                                                                                                                                                                                                                                                                        did not love it -- NEG\n",
      "                                                                                                                                                                                                                                                                                                                                                                                                                                                                                                                                                                                                                                                                                                                                                                                                                    cannot say that i loved it -- NEG\n"
     ]
    }
   ],
   "source": [
    "predictions = model.predict(test_sentences)\n",
    "sentiment = ['NEG' if i < 0.96 else 'POS' for i in predictions]\n",
    "\n",
    "for i in range(test_sentences.shape[0]): \n",
    "    print(decode_to_sentence(test_sentences[i]), \"--\", sentiment[i])"
   ]
  },
  {
   "cell_type": "code",
   "execution_count": null,
   "metadata": {},
   "outputs": [],
   "source": []
  }
 ],
 "metadata": {
  "kernelspec": {
   "display_name": "Python 3",
   "language": "python",
   "name": "python3"
  },
  "language_info": {
   "codemirror_mode": {
    "name": "ipython",
    "version": 3
   },
   "file_extension": ".py",
   "mimetype": "text/x-python",
   "name": "python",
   "nbconvert_exporter": "python",
   "pygments_lexer": "ipython3",
   "version": "3.6.4"
  }
 },
 "nbformat": 4,
 "nbformat_minor": 2
}
